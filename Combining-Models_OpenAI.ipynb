{
 "cells": [
  {
   "cell_type": "markdown",
   "id": "cbb1c5ec",
   "metadata": {},
   "source": [
    "## Setup the environment"
   ]
  },
  {
   "cell_type": "code",
   "execution_count": 1,
   "id": "10f53384",
   "metadata": {},
   "outputs": [
    {
     "data": {
      "text/plain": [
       "True"
      ]
     },
     "execution_count": 1,
     "metadata": {},
     "output_type": "execute_result"
    }
   ],
   "source": [
    "import os, openai, dotenv\n",
    "from dotenv import main\n",
    "main.load_dotenv()"
   ]
  },
  {
   "cell_type": "markdown",
   "id": "02cc16b6",
   "metadata": {},
   "source": [
    "## Set your API key"
   ]
  },
  {
   "cell_type": "code",
   "execution_count": 2,
   "id": "cd22f88d",
   "metadata": {},
   "outputs": [],
   "source": [
    "openai.api_key = os.getenv(\"OPENAI_API_KEY\")"
   ]
  },
  {
   "cell_type": "code",
   "execution_count": 3,
   "id": "a3ef4fe9",
   "metadata": {},
   "outputs": [],
   "source": [
    "jap_audio_file = open(\"japanese_rec.mp4\", \"rb\")"
   ]
  },
  {
   "cell_type": "code",
   "execution_count": 4,
   "id": "720a4fe0",
   "metadata": {},
   "outputs": [],
   "source": [
    "response = openai.Audio.translate(\"whisper-1\", jap_audio_file)"
   ]
  },
  {
   "cell_type": "code",
   "execution_count": 5,
   "id": "8d55a208",
   "metadata": {},
   "outputs": [
    {
     "name": "stdout",
     "output_type": "stream",
     "text": [
      "{\n",
      "  \"text\": \"so now I'm going to be talking about a meeting that took place in attack on titan but this is going to be in Japanese so this is for open AI I'm going to be checking whether or not open AI can actually translate and transcribe using the dot translate method okay so now I'm going to be checking whether or not open AI can actually translate and transcribe using the dot translate method can't actually remember the word for I'm expecting a lot from open AI's transcribe and translate but I guess the audio is getting just too long I'm going to be cutting it here let's see how open AI responds\"\n",
      "}\n"
     ]
    }
   ],
   "source": [
    "print(response)"
   ]
  },
  {
   "cell_type": "code",
   "execution_count": 6,
   "id": "8014bcb0",
   "metadata": {},
   "outputs": [],
   "source": [
    "prompt = \"The audio is in both English and Japanese. Translate the japanese part.\""
   ]
  },
  {
   "cell_type": "code",
   "execution_count": 9,
   "id": "ed64b92a",
   "metadata": {},
   "outputs": [],
   "source": [
    "jap_audio_file = open(\"japanese_rec.mp4\", \"rb\")\n",
    "response = openai.Audio.translate(\"whisper-1\", jap_audio_file, prompt=prompt)"
   ]
  },
  {
   "cell_type": "code",
   "execution_count": 12,
   "id": "18960106",
   "metadata": {},
   "outputs": [
    {
     "name": "stdout",
     "output_type": "stream",
     "text": [
      "So, now I'm going to be talking about a meeting that took place in Attack on Titan, but this is going to be in Japanese. So, this is for OpenAI. I'm going to be checking whether or not OpenAI can actually translate and transcribe using the .translate method. So, in that meeting, there were Armin, Eren, and Mikasa. Mikasa couldn't fight Eren, so she just did as Eren said. This is the story of an anime called Attack on Titan. I can't actually remember the word for I'm expecting a lot from OpenAI's transcribe and translate, but I guess the audio is getting just too long. I'm going to be cutting it here. Let's see how OpenAI responds.\n"
     ]
    }
   ],
   "source": [
    "print(response[\"text\"])"
   ]
  },
  {
   "cell_type": "markdown",
   "id": "80d57d0f",
   "metadata": {},
   "source": [
    "# Combine output with ChatCompletion Endpoint"
   ]
  },
  {
   "cell_type": "markdown",
   "id": "3352b133",
   "metadata": {},
   "source": [
    "Task is to determine the names of those who were present in that meeting."
   ]
  },
  {
   "cell_type": "code",
   "execution_count": 11,
   "id": "c8365e08",
   "metadata": {},
   "outputs": [],
   "source": [
    "prompt2 = \"Your task is to name those who were present in the meeting.\""
   ]
  },
  {
   "cell_type": "code",
   "execution_count": 17,
   "id": "e11ba658",
   "metadata": {},
   "outputs": [],
   "source": [
    "response_2 = openai.ChatCompletion.create(\n",
    "    model = \"gpt-3.5-turbo\",\n",
    "    messages = [{\"role\":\"user\", \"content\":prompt2 + response[\"text\"]}],\n",
    "    max_tokens = 30,\n",
    "    temperature = 0\n",
    ")"
   ]
  },
  {
   "cell_type": "code",
   "execution_count": 18,
   "id": "87786a93",
   "metadata": {},
   "outputs": [
    {
     "name": "stdout",
     "output_type": "stream",
     "text": [
      "{\n",
      "  \"id\": \"chatcmpl-8CxdAolPnj2NaYkswc4d1auPmjAK5\",\n",
      "  \"object\": \"chat.completion\",\n",
      "  \"created\": 1698099848,\n",
      "  \"model\": \"gpt-3.5-turbo-0613\",\n",
      "  \"choices\": [\n",
      "    {\n",
      "      \"index\": 0,\n",
      "      \"message\": {\n",
      "        \"role\": \"assistant\",\n",
      "        \"content\": \"Based on the information provided, the individuals present in the meeting in Attack on Titan were Armin, Eren, and Mikasa. Mikasa followed\"\n",
      "      },\n",
      "      \"finish_reason\": \"length\"\n",
      "    }\n",
      "  ],\n",
      "  \"usage\": {\n",
      "    \"prompt_tokens\": 175,\n",
      "    \"completion_tokens\": 30,\n",
      "    \"total_tokens\": 205\n",
      "  }\n",
      "}\n"
     ]
    }
   ],
   "source": [
    "print(response_2)"
   ]
  },
  {
   "cell_type": "code",
   "execution_count": 24,
   "id": "dd8c5e8c",
   "metadata": {},
   "outputs": [],
   "source": [
    "# zero-shot isn't working as well as you want it to.\n",
    "# use single-shot prompting:\n",
    "response_2 = openai.ChatCompletion.create(\n",
    "    model = \"gpt-3.5-turbo\",\n",
    "    messages = [\n",
    "        {\"role\": \"user\", \"content\": \"Who were present in the meeting?\"},\n",
    "        {\"role\": \"assistant\", \"content\": \"Abdullah, Fuad and Summit\"},\n",
    "        {\"role\":\"user\", \"content\":prompt2 + response[\"text\"]}\n",
    "    ],\n",
    "    temperature = 0\n",
    ")"
   ]
  },
  {
   "cell_type": "code",
   "execution_count": 25,
   "id": "a70f621e",
   "metadata": {},
   "outputs": [
    {
     "name": "stdout",
     "output_type": "stream",
     "text": [
      "{\n",
      "  \"id\": \"chatcmpl-8CxgQpGCU2SRTJF53QWMtJf921954\",\n",
      "  \"object\": \"chat.completion\",\n",
      "  \"created\": 1698100050,\n",
      "  \"model\": \"gpt-3.5-turbo-0613\",\n",
      "  \"choices\": [\n",
      "    {\n",
      "      \"index\": 0,\n",
      "      \"message\": {\n",
      "        \"role\": \"assistant\",\n",
      "        \"content\": \"Based on the information provided, the individuals present in the meeting in Attack on Titan were Armin, Eren, and Mikasa.\"\n",
      "      },\n",
      "      \"finish_reason\": \"stop\"\n",
      "    }\n",
      "  ],\n",
      "  \"usage\": {\n",
      "    \"prompt_tokens\": 198,\n",
      "    \"completion_tokens\": 27,\n",
      "    \"total_tokens\": 225\n",
      "  }\n",
      "}\n"
     ]
    }
   ],
   "source": [
    "print(response_2)"
   ]
  },
  {
   "cell_type": "code",
   "execution_count": 26,
   "id": "e987cb9e",
   "metadata": {},
   "outputs": [],
   "source": [
    "# you don't want the first part... the based on the information stuff.. so \n",
    "# do few shot prompting\n",
    "response_2 = openai.ChatCompletion.create(\n",
    "    model = \"gpt-3.5-turbo\",\n",
    "    messages = [\n",
    "        {\"role\": \"user\", \"content\": \"Who were present in the meeting?\"},\n",
    "        {\"role\": \"assistant\", \"content\": \"Abdullah, Fuad and Summit\"},\n",
    "        {\"role\": \"user\", \"content\": \"Who were present in the meeting?\"},\n",
    "        {\"role\": \"assistant\", \"content\": \"Max, Barbie and Aaron\"},\n",
    "        {\"role\": \"user\", \"content\": \"Who were present in the meeting?\"},\n",
    "        {\"role\": \"assistant\", \"content\": \"Azim, Fuad and Seth\"},\n",
    "        {\"role\": \"user\", \"content\": \"Who were present in the meeting?\"},\n",
    "        {\"role\": \"assistant\", \"content\": \"Tim, Mosh and Sarah\"},\n",
    "        \n",
    "        {\"role\":\"user\", \"content\":prompt2 + response[\"text\"]}\n",
    "    ],\n",
    "    temperature = 0\n",
    ")\n"
   ]
  },
  {
   "cell_type": "code",
   "execution_count": 28,
   "id": "c3f75513",
   "metadata": {
    "scrolled": false
   },
   "outputs": [
    {
     "name": "stdout",
     "output_type": "stream",
     "text": [
      "{\n",
      "  \"id\": \"chatcmpl-8CxiXK1P1fRVt4SOK0i9mEy0pQZeq\",\n",
      "  \"object\": \"chat.completion\",\n",
      "  \"created\": 1698100181,\n",
      "  \"model\": \"gpt-3.5-turbo-0613\",\n",
      "  \"choices\": [\n",
      "    {\n",
      "      \"index\": 0,\n",
      "      \"message\": {\n",
      "        \"role\": \"assistant\",\n",
      "        \"content\": \"Based on the information provided, the individuals present in the meeting from the anime Attack on Titan were Armin, Eren, and Mikasa.\"\n",
      "      },\n",
      "      \"finish_reason\": \"stop\"\n",
      "    }\n",
      "  ],\n",
      "  \"usage\": {\n",
      "    \"prompt_tokens\": 261,\n",
      "    \"completion_tokens\": 29,\n",
      "    \"total_tokens\": 290\n",
      "  }\n",
      "}\n"
     ]
    }
   ],
   "source": [
    "print(response_2)"
   ]
  },
  {
   "cell_type": "code",
   "execution_count": null,
   "id": "ded9f17a",
   "metadata": {},
   "outputs": [],
   "source": [
    "# i give up... ai is stupid.. but you get the idea..."
   ]
  }
 ],
 "metadata": {
  "kernelspec": {
   "display_name": "Python 3 (ipykernel)",
   "language": "python",
   "name": "python3"
  },
  "language_info": {
   "codemirror_mode": {
    "name": "ipython",
    "version": 3
   },
   "file_extension": ".py",
   "mimetype": "text/x-python",
   "name": "python",
   "nbconvert_exporter": "python",
   "pygments_lexer": "ipython3",
   "version": "3.9.12"
  }
 },
 "nbformat": 4,
 "nbformat_minor": 5
}
